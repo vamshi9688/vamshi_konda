{
  "nbformat": 4,
  "nbformat_minor": 0,
  "metadata": {
    "colab": {
      "name": "vamshi_konda",
      "provenance": []
    },
    "kernelspec": {
      "name": "python3",
      "display_name": "Python 3"
    },
    "language_info": {
      "name": "python"
    }
  },
  "cells": [
    {
      "cell_type": "code",
      "metadata": {
        "id": "uAb5gSVGYylf"
      },
      "source": [
        "const express = require(\"express\");\n",
        "const bodyparser = require(\"body-parser\");\n",
        "\n",
        "const app = express();\n",
        "app.use(bodyparser.urlencoded({extended: true}));\n",
        "    \n",
        "app.get(\"/\", function(req, res){\n",
        "    res.sendFile(__dirname+\"/index.html\");\n",
        "});\n",
        "\n",
        "app.post(\"/\",function(req, res){\n",
        "    var n1 = Number(req.body.num1);\n",
        "    var n2 = Number(req.body.num2);\n",
        "    var result = n1+n2;\n",
        "    res.send(\"The answer is \" + result);\n",
        "});\n",
        "\n",
        "app.listen(3000, function(){\n",
        "    console.log(\"server has started on port 3000\");\n",
        "});"
      ],
      "execution_count": null,
      "outputs": []
    }
  ]
}